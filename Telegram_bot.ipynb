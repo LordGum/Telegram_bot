{
  "nbformat": 4,
  "nbformat_minor": 0,
  "metadata": {
    "colab": {
      "provenance": [],
      "authorship_tag": "ABX9TyMA5Hg+diqHzqhW3zc6Supp",
      "include_colab_link": true
    },
    "kernelspec": {
      "name": "python3",
      "display_name": "Python 3"
    },
    "language_info": {
      "name": "python"
    }
  },
  "cells": [
    {
      "cell_type": "markdown",
      "metadata": {
        "id": "view-in-github",
        "colab_type": "text"
      },
      "source": [
        "<a href=\"https://colab.research.google.com/github/LordGum/Telegram_bot/blob/main/Telegram_bot.ipynb\" target=\"_parent\"><img src=\"https://colab.research.google.com/assets/colab-badge.svg\" alt=\"Open In Colab\"/></a>"
      ]
    },
    {
      "cell_type": "code",
      "execution_count": 15,
      "metadata": {
        "id": "y0KNsIA2VmGt",
        "colab": {
          "base_uri": "https://localhost:8080/"
        },
        "outputId": "6583c8e0-aaea-4afb-8f8b-4784a647ef00"
      },
      "outputs": [
        {
          "output_type": "stream",
          "name": "stdout",
          "text": [
            "Requirement already satisfied: pyTelegramBotAPI in /usr/local/lib/python3.12/dist-packages (4.29.1)\n",
            "Requirement already satisfied: requests in /usr/local/lib/python3.12/dist-packages (from pyTelegramBotAPI) (2.32.4)\n",
            "Requirement already satisfied: charset_normalizer<4,>=2 in /usr/local/lib/python3.12/dist-packages (from requests->pyTelegramBotAPI) (3.4.4)\n",
            "Requirement already satisfied: idna<4,>=2.5 in /usr/local/lib/python3.12/dist-packages (from requests->pyTelegramBotAPI) (3.11)\n",
            "Requirement already satisfied: urllib3<3,>=1.21.1 in /usr/local/lib/python3.12/dist-packages (from requests->pyTelegramBotAPI) (2.5.0)\n",
            "Requirement already satisfied: certifi>=2017.4.17 in /usr/local/lib/python3.12/dist-packages (from requests->pyTelegramBotAPI) (2025.10.5)\n"
          ]
        }
      ],
      "source": [
        "!pip  install pyTelegramBotAPI"
      ]
    },
    {
      "cell_type": "code",
      "source": [
        "import telebot\n",
        "from telebot import types\n",
        "import sqlite3"
      ],
      "metadata": {
        "id": "MTWeHc4uWJRt"
      },
      "execution_count": 16,
      "outputs": []
    },
    {
      "cell_type": "markdown",
      "source": [
        "База данных"
      ],
      "metadata": {
        "id": "_zCUjOQ5PDRO"
      }
    },
    {
      "cell_type": "code",
      "source": [
        "import sqlite3\n",
        "import json\n",
        "\n",
        "class Database:\n",
        "    def __init__(self, db_path: str = \"telegram_bot_project_1.db\"):\n",
        "        self.db_path = db_path\n",
        "        self.init_db()\n",
        "\n",
        "    def init_db(self):\n",
        "        with sqlite3.connect(self.db_path) as conn:\n",
        "            conn.execute('''\n",
        "                CREATE TABLE IF NOT EXISTS todos (\n",
        "                    id INTEGER PRIMARY KEY AUTOINCREMENT,\n",
        "                    user_id INTEGER NOT NULL,\n",
        "                    text TEXT NOT NULL,\n",
        "                    done BOOLEAN DEFAULT FALSE,\n",
        "                    created_at TIMESTAMP DEFAULT CURRENT_TIMESTAMP\n",
        "                )\n",
        "            ''')\n",
        "\n",
        "            conn.execute('''\n",
        "                CREATE TABLE IF NOT EXISTS user_stats (\n",
        "                    user_id INTEGER PRIMARY KEY,\n",
        "                    first_seen TIMESTAMP DEFAULT CURRENT_TIMESTAMP,\n",
        "                    last_seen TIMESTAMP DEFAULT CURRENT_TIMESTAMP\n",
        "                )\n",
        "            ''')\n",
        "\n",
        "            conn.execute('''\n",
        "                CREATE TABLE IF NOT EXISTS command_logs (\n",
        "                    id INTEGER PRIMARY KEY AUTOINCREMENT,\n",
        "                    user_id INTEGER NOT NULL,\n",
        "                    command TEXT NOT NULL,\n",
        "                    executed_at TIMESTAMP DEFAULT CURRENT_TIMESTAMP\n",
        "                )\n",
        "            ''')\n",
        "\n",
        "            conn.commit()\n",
        "\n",
        "    def add_todo(self, user_id: int, text: str):\n",
        "        with sqlite3.connect(self.db_path) as conn:\n",
        "            cursor = conn.execute(\n",
        "                'INSERT INTO todos (user_id, text) VALUES (?, ?)',\n",
        "                (user_id, text)\n",
        "            )\n",
        "            conn.commit()\n",
        "            return cursor.lastrowid\n",
        "\n",
        "    def get_todos(self, user_id: int, offset: int = 0, limit: int = 10):\n",
        "        with sqlite3.connect(self.db_path) as conn:\n",
        "            cursor = conn.execute('''\n",
        "                SELECT id, text, done, created_at\n",
        "                FROM todos\n",
        "                WHERE user_id = ?\n",
        "                ORDER BY created_at DESC\n",
        "                LIMIT ? OFFSET ?\n",
        "            ''', (user_id, limit, offset))\n",
        "\n",
        "            return [{\n",
        "                'id': row[0],\n",
        "                'text': row[1],\n",
        "                'done': bool(row[2]),\n",
        "                'created_at': row[3]\n",
        "            } for row in cursor.fetchall()]\n",
        "\n",
        "    def mark_todo_done(self, user_id: int, todo_id: int):\n",
        "        with sqlite3.connect(self.db_path) as conn:\n",
        "            cursor = conn.execute('''\n",
        "                UPDATE todos SET done = TRUE\n",
        "                WHERE id = ? AND user_id = ?\n",
        "            ''', (todo_id, user_id))\n",
        "            conn.commit()\n",
        "            return cursor.rowcount > 0"
      ],
      "metadata": {
        "id": "lFIo89LafWkR"
      },
      "execution_count": 17,
      "outputs": []
    },
    {
      "cell_type": "code",
      "source": [
        "from google.colab import userdata\n",
        "token = userdata.get('token')\n",
        "weather_api = userdata.get('weather_token')"
      ],
      "metadata": {
        "id": "u_Yg7s2oWaZA"
      },
      "execution_count": 18,
      "outputs": []
    },
    {
      "cell_type": "code",
      "source": [
        "bot = telebot.TeleBot(token)\n",
        "\n",
        "@bot.message_handler(commands=['start'])\n",
        "def start(message):\n",
        "  bot.send_message(message.chat.id, \"привет\")\n"
      ],
      "metadata": {
        "id": "iKFYx47RrBX9"
      },
      "execution_count": 19,
      "outputs": []
    },
    {
      "cell_type": "markdown",
      "source": [
        "**Команды todo**"
      ],
      "metadata": {
        "id": "fOLoPOxvrOn-"
      }
    },
    {
      "cell_type": "code",
      "source": [
        "db = Database()\n",
        "\n",
        "@bot.message_handler(commands=['todo'])\n",
        "def todo_command(message):\n",
        "  parts = message.text.strip().split(maxsplit=2)\n",
        "\n",
        "  if len(parts) < 2:\n",
        "    bot.send_message(message.chat.id, \"нехватает параметров, введите команду заново\")\n",
        "    return\n",
        "\n",
        "  command = parts[1].lower()\n",
        "  user_id = message.from_user.id\n",
        "  if command == \"add\" and len(parts) > 2:\n",
        "    task_text = parts[2]\n",
        "    task_id = db.add_todo(user_id, task_text)\n",
        "    bot.send_message(message.chat.id, f\"Задача #{task_id} добавлена: {task_text}\")\n",
        "\n",
        "  elif command == \"list\":\n",
        "    todos = db.get_todos(user_id)\n",
        "    if not todos:\n",
        "      bot.send_message(message.chat.id, \"Список задач пуст\")\n",
        "    else:\n",
        "      response = []\n",
        "      for todo in todos:\n",
        "          status = \"✅\" if todo['done'] else \" □ \"\n",
        "          response.append(f\"{status} #{todo['id']}: {todo['text']}\")\n",
        "\n",
        "      response_text = \"Ваши задачи:\\n\" + \"\\n\".join(response[::-1])\n",
        "      bot.send_message(message.chat.id, f\"{response_text}\")\n",
        "\n",
        "  elif command == \"done\" and len(parts) > 2:\n",
        "    task_id = int(parts[2])\n",
        "    if db.mark_todo_done(user_id, task_id):\n",
        "        bot.send_message(message.chat.id, f\"✅ Задача #{task_id} выполнена!\")\n",
        "    else:\n",
        "        bot.send_message(message.chat.id, \"❌ Задача не найдена\")\n",
        "\n",
        "  else:\n",
        "    bot.send_message(message.chat.id, \"Ошибка команды /list\")"
      ],
      "metadata": {
        "id": "XbHJEy9rrE-0"
      },
      "execution_count": 20,
      "outputs": []
    },
    {
      "cell_type": "markdown",
      "source": [
        "**Команда weather**"
      ],
      "metadata": {
        "id": "nZTTYSEfrVo1"
      }
    },
    {
      "cell_type": "code",
      "source": [
        "import requests\n",
        "\n",
        "@bot.message_handler(commands=['weather'])\n",
        "def weather_command(message):\n",
        "  answer = ''\n",
        "  text = message.text.split()\n",
        "  if len(text) <= 0:\n",
        "    answer = \"Ошибка. Неверная команда\"\n",
        "  if len(text) == 1:\n",
        "    answer = \"Введите название города\"\n",
        "    bot.send_message(message.chat.id, f\"{answer}\")\n",
        "    bot.register_next_step_handler(message, city_command)\n",
        "  else:\n",
        "    answer = f\"Узнаю погоду в {' '.join(text[1:])}\"\n",
        "    bot.send_message(message.chat.id, f\"{answer}\")\n",
        "\n",
        "def city_command(message):\n",
        "  try:\n",
        "    city = message.text\n",
        "    res = requests.get(f'https://api.openweathermap.org/data/2.5/weather?q={city}&appid={weather_api}&units=metric')\n",
        "    data = json.loads(res.text)\n",
        "    answer = f'''\n",
        "сейчас в {city}\n",
        "температура {data['main']['temp']} градусов\n",
        "    '''\n",
        "    bot.reply_to(message, answer)\n",
        "  except Exception as e:\n",
        "    bot.reply_to(message, \"Произошла ошибка\")\n",
        "\n"
      ],
      "metadata": {
        "id": "dtfgsfBArKTF"
      },
      "execution_count": 21,
      "outputs": []
    },
    {
      "cell_type": "markdown",
      "source": [
        "**Команда help**"
      ],
      "metadata": {
        "id": "aPyLdUSfzeCw"
      }
    },
    {
      "cell_type": "code",
      "source": [
        "@bot.message_handler(commands=['help'])\n",
        "def help_command(message):\n",
        "  text = r'''/todo - управление задачами\n",
        "/weather <город> - погода\n",
        "/rate <базовая> <валюты> - курсы валют\n",
        "/fileinfo - информация о файлах\n",
        "/stats - статистика бота\n",
        "/help - помощь\n",
        "  '''\n",
        "  bot.send_message(message.chat.id, f\"{text}\")"
      ],
      "metadata": {
        "id": "3mKNiflizdNo"
      },
      "execution_count": 22,
      "outputs": []
    },
    {
      "cell_type": "markdown",
      "source": [
        "**Команда rate**"
      ],
      "metadata": {
        "id": "YvJP1607ra5l"
      }
    },
    {
      "cell_type": "code",
      "source": [
        "!pip install CurrencyConverter"
      ],
      "metadata": {
        "id": "Z_ge9_zP3wiD",
        "colab": {
          "base_uri": "https://localhost:8080/"
        },
        "outputId": "7a931c96-e49e-4dba-9927-4694ce3903cf"
      },
      "execution_count": 23,
      "outputs": [
        {
          "output_type": "stream",
          "name": "stdout",
          "text": [
            "Collecting CurrencyConverter\n",
            "  Downloading currencyconverter-0.18.11-py3-none-any.whl.metadata (6.5 kB)\n",
            "Downloading currencyconverter-0.18.11-py3-none-any.whl (633 kB)\n",
            "\u001b[2K   \u001b[90m━━━━━━━━━━━━━━━━━━━━━━━━━━━━━━━━━━━━━━━━\u001b[0m \u001b[32m633.4/633.4 kB\u001b[0m \u001b[31m8.4 MB/s\u001b[0m eta \u001b[36m0:00:00\u001b[0m\n",
            "\u001b[?25hInstalling collected packages: CurrencyConverter\n",
            "Successfully installed CurrencyConverter-0.18.11\n"
          ]
        }
      ]
    },
    {
      "cell_type": "code",
      "source": [
        "from currency_converter import CurrencyConverter\n",
        "from telebot import types\n",
        "\n",
        "converter = CurrencyConverter()\n",
        "\n",
        "@bot.message_handler(commands=['rate'])\n",
        "def rate_command(message):\n",
        "  bot.send_message(message.chat.id, \"Введите сумму для конвертации\")\n",
        "  bot.register_next_step_handler(message, convert)\n",
        "\n",
        "def convert(message):\n",
        "  global amount\n",
        "  try:\n",
        "    amount = int(message.text.strip())\n",
        "  except ValueError:\n",
        "    bot.send_message(message.chat.id, 'Неверный формат. Впишите сумму')\n",
        "    bot.register_next_step_handler(message, convert)\n",
        "    return\n",
        "  if amount > 0:\n",
        "    markup = types.InlineKeyboardMarkup(row_width=2)\n",
        "    btn1 = types.InlineKeyboardButton('USD/EUR', callback_data='usd/eur')\n",
        "    btn2 = types.InlineKeyboardButton('EUR/USD', callback_data='eur/usd')\n",
        "    btn3 = types.InlineKeyboardButton('USD/GBP', callback_data='usd/gbp')\n",
        "    markup.add(btn1, btn2, btn3)\n",
        "    bot.send_message(message.chat.id, 'Выберите пару валют', reply_markup=markup)\n",
        "  else:\n",
        "    bot.send_message(message.chat.id, 'Число должно быть больше 0. Впишите сумму')\n",
        "    bot.register_next_step_handler(message, convert)\n",
        "\n",
        "\n",
        "@bot.callback_query_handler(func=lambda call: True)\n",
        "def callback(call):\n",
        "    values = call.data.upper().split('/')\n",
        "    res = converter.convert(amount, values[0], values[1])\n",
        "    bot.send_message(call.message.chat.id, f'Получается: {amount} {values[0]} - это {round(res, 2)} {values[1]}')\n"
      ],
      "metadata": {
        "id": "fX7xkuovez7i"
      },
      "execution_count": 24,
      "outputs": []
    },
    {
      "cell_type": "markdown",
      "source": [
        "# **Команда fileinfo**"
      ],
      "metadata": {
        "id": "rMPkM0OYpb1X"
      }
    },
    {
      "cell_type": "code",
      "source": [
        "import hashlib\n",
        "import os\n",
        "\n",
        "class FileService:\n",
        "    @staticmethod\n",
        "    def get_file_info(file_path: str):\n",
        "        file_stats = os.stat(file_path)\n",
        "\n",
        "        sha256_hash = hashlib.sha256()\n",
        "        f = open(file_path)\n",
        "        for byte_block in iter(lambda: f.read(4096), b\"\"):\n",
        "            sha256_hash.update(byte_block)\n",
        "\n",
        "        return {\n",
        "            'filename': os.path.basename(file_path),\n",
        "            'size_kb': round(file_stats.st_size / 1024, 2),\n",
        "            'sha256': sha256_hash.hexdigest()\n",
        "        }"
      ],
      "metadata": {
        "id": "McyguKQppwIw"
      },
      "execution_count": 25,
      "outputs": []
    },
    {
      "cell_type": "code",
      "source": [
        "import tempfile\n",
        "import os\n",
        "\n",
        "file_service = FileService()\n",
        "\n",
        "@bot.message_handler(commands=['fileinfo'])\n",
        "def fileinfo_command(message):\n",
        "  bot.send_message(message.chat.id, \" Отправьте мне любой файл, и я покажу информацию о нём\")\n",
        "  bot.register_next_step_handler(message, handle_file)\n",
        "\n",
        "\n",
        "@bot.message_handler(content_types=['document', 'photo', 'video', 'audio', 'voice'])\n",
        "def handle_file(message):\n",
        "    try:\n",
        "        if message.document:\n",
        "            file_info = bot.get_file(message.document.file_id)\n",
        "            downloaded_file = bot.download_file(file_info.file_path)\n",
        "            file_name = message.document.file_name\n",
        "            file_size = message.document.file_size\n",
        "\n",
        "        elif message.photo:\n",
        "            file_info = bot.get_file(message.photo[-1].file_id)\n",
        "            downloaded_file = bot.download_file(file_info.file_path)\n",
        "            file_name = f\"photo_{file_info.file_id}.jpg\"\n",
        "            file_size = message.photo[-1].file_size\n",
        "\n",
        "        elif message.audio:\n",
        "            file_info = bot.get_file(message.audio.file_id)\n",
        "            downloaded_file = bot.download_file(file_info.file_path)\n",
        "            file_name = message.audio.file_name or f\"audio_{file_info.file_id}.mp3\"\n",
        "            file_size = message.audio.file_size\n",
        "\n",
        "        elif message.video:\n",
        "            file_info = bot.get_file(message.video.file_id)\n",
        "            downloaded_file = bot.download_file(file_info.file_path)\n",
        "            file_name = message.video.file_name or f\"video_{file_info.file_id}.mp4\"\n",
        "            file_size = message.video.file_size\n",
        "\n",
        "        elif message.voice:\n",
        "            file_info = bot.get_file(message.voice.file_id)\n",
        "            downloaded_file = bot.download_file(file_info.file_path)\n",
        "            file_name = f\"voice_{file_info.file_id}.ogg\"\n",
        "            file_size = message.voice.file_size\n",
        "        else:\n",
        "          bot.send_message(message.chat.id, \"Кажется, я не знаю такой тип файлов.\")\n",
        "\n",
        "        sha256_hash = hashlib.sha256(downloaded_file).hexdigest()\n",
        "\n",
        "        info_message = (\n",
        "            f\"Информация о файле:\\n\\n\"\n",
        "            f\"Имя: {file_name}\\n\\n\"\n",
        "            f\"Размер: {file_size}\\n\\n\"\n",
        "            f\"SHA-256: {sha256_hash}\\n\\n\"\n",
        "        )\n",
        "\n",
        "        bot.send_message(message.chat.id, info_message)\n",
        "\n",
        "    except Exception as e:\n",
        "        bot.send_message(message.chat.id, f\"Произошла ошибка при обработке файла: {str(e)}\")"
      ],
      "metadata": {
        "id": "07-7wsV2p3pr"
      },
      "execution_count": 26,
      "outputs": []
    },
    {
      "cell_type": "code",
      "source": [],
      "metadata": {
        "id": "o42ZjY9Mpk7o"
      },
      "execution_count": 26,
      "outputs": []
    },
    {
      "cell_type": "code",
      "source": [
        "@bot.message_handler()\n",
        "def handle_other_messages(message):\n",
        "  if message.text.startswith('/'):\n",
        "      bot.send_message(message.chat.id, \"Ошибка. Неизвестная команда\")\n",
        "  else:\n",
        "    bot.send_message(message.chat.id, \"неизвестная команда, если нужна помощь напишите /help\")\n",
        "\n",
        "bot.polling(none_stop=True)"
      ],
      "metadata": {
        "id": "FNQNPPe7axOa"
      },
      "execution_count": null,
      "outputs": []
    },
    {
      "cell_type": "code",
      "source": [],
      "metadata": {
        "id": "SSLeHERYAnaT"
      },
      "execution_count": null,
      "outputs": []
    }
  ]
}